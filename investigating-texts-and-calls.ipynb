{
 "cells": [
  {
   "cell_type": "code",
   "execution_count": 1,
   "metadata": {},
   "outputs": [],
   "source": [
    "import csv"
   ]
  },
  {
   "cell_type": "code",
   "execution_count": 2,
   "metadata": {},
   "outputs": [],
   "source": [
    "with open('texts.csv', 'r') as f:\n",
    "    reader = csv.reader(f)\n",
    "    texts = list(reader)\n",
    "\n",
    "with open('calls.csv', 'r') as f:\n",
    "    reader = csv.reader(f)\n",
    "    calls = list(reader)"
   ]
  },
  {
   "cell_type": "code",
   "execution_count": 4,
   "metadata": {},
   "outputs": [
    {
     "name": "stdout",
     "output_type": "stream",
     "text": [
      "[['97424 22395', '90365 06212', '01-09-2016 06:03:22'], ['94489 72078', '92415 91418', '01-09-2016 06:05:35'], ['81520 43406', '92421 64236', '01-09-2016 06:09:34'], ['97389 12538', '90352 50054', '01-09-2016 06:09:39'], ['81515 42171', '98440 02823', '01-09-2016 06:13:30']]\n"
     ]
    }
   ],
   "source": [
    "print(texts[:5])"
   ]
  },
  {
   "cell_type": "code",
   "execution_count": 5,
   "metadata": {},
   "outputs": [
    {
     "name": "stdout",
     "output_type": "stream",
     "text": [
      "[['78130 00821', '98453 94494', '01-09-2016 06:01:12', '186'], ['78298 91466', '(022)28952819', '01-09-2016 06:01:59', '2093'], ['97424 22395', '(022)47410783', '01-09-2016 06:03:51', '1975'], ['93427 40118', '(080)33118033', '01-09-2016 06:11:23', '1156'], ['90087 42537', '(080)35121497', '01-09-2016 06:17:26', '573']]\n"
     ]
    }
   ],
   "source": [
    "print(calls[:5])"
   ]
  },
  {
   "cell_type": "code",
   "execution_count": null,
   "metadata": {},
   "outputs": [],
   "source": []
  }
 ],
 "metadata": {
  "kernelspec": {
   "display_name": "base",
   "language": "python",
   "name": "python3"
  },
  "language_info": {
   "codemirror_mode": {
    "name": "ipython",
    "version": 3
   },
   "file_extension": ".py",
   "mimetype": "text/x-python",
   "name": "python",
   "nbconvert_exporter": "python",
   "pygments_lexer": "ipython3",
   "version": "3.9.16"
  },
  "orig_nbformat": 4
 },
 "nbformat": 4,
 "nbformat_minor": 2
}
